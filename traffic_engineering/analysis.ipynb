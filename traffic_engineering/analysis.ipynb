{
 "cells": [
  {
   "cell_type": "code",
   "execution_count": 10,
   "metadata": {},
   "outputs": [],
   "source": [
    "import cvxpy as cp\n",
    "import numpy as np\n",
    "import pandas as pd\n",
    "import matplotlib.pyplot as plt\n",
    "import os\n",
    "import csv\n",
    "import pickle"
   ]
  },
  {
   "cell_type": "markdown",
   "metadata": {},
   "source": [
    "# Analyze a problem"
   ]
  },
  {
   "cell_type": "code",
   "execution_count": 3,
   "metadata": {},
   "outputs": [],
   "source": [
    "# imports\n",
    "from lib.problems import *\n",
    "from lib.algorithms.path_formulation import PathFormulation"
   ]
  },
  {
   "cell_type": "code",
   "execution_count": 4,
   "metadata": {},
   "outputs": [],
   "source": [
    "# define problem params\n",
    "prob_name = 'delta'\n",
    "num_paths = 4\n",
    "edge_disjoint = True\n",
    "dist_metric = 'inv-cap'\n",
    "# create problem\n",
    "prob = get_problem(prob_name, model='gravity', scale_factor=8)"
   ]
  },
  {
   "cell_type": "code",
   "execution_count": 13,
   "metadata": {},
   "outputs": [],
   "source": [
    "# takes in a problem, returns a 4-tuple (id, src, dst, capacity) for each link\n",
    "def get_edge_capacities(prob):\n",
    "  capacities = []\n",
    "  edge_id_mapping = dict()\n",
    "  cur_edge_id = 0\n",
    "  # get adjacency list for each node in graph\n",
    "  adj_list = prob.G.adj\n",
    "  for src, src_info in adj_list.items():\n",
    "    for dst, dst_info in src_info.items():\n",
    "      capacities.append((src, dst, dst_info['capacity']))\n",
    "      key = (src, dst)\n",
    "      val = (cur_edge_id, dst_info['capacity'])\n",
    "      edge_id_mapping[key] = val\n",
    "      cur_edge_id += 1\n",
    "  \n",
    "  # sort on src ID for consistent edge ordering\n",
    "  capacities = sorted(capacities, key=lambda x: x[0])\n",
    "  print(f\"# edges: {len(capacities)}\")\n",
    "  return capacities, edge_id_mapping\n",
    "\n",
    "# extract flows from problem\n",
    "def get_flows(prob):\n",
    "  flows = []\n",
    "  for i, src, dst, flow_size in prob.multi_commodity_list:\n",
    "    # src and dst are a 1-length list\n",
    "    flows.append((src[0], dst[0], flow_size))\n",
    "  print(f\"# flows: {len(flows)}\")\n",
    "  return flows\n",
    "\n",
    "# extract traffic matrix\n",
    "def get_traffic_matrix(prob):\n",
    "  traffic_mat = prob.traffic_matrix._tm\n",
    "  print(f\"# nodes: {traffic_mat.shape[0]}\")\n",
    "  return traffic_mat\n",
    "\n",
    "# map paths to edge IDs, returns mapped paths\n",
    "# edge_id_mapping: (src, dst) -> (edge_id, capacity)\n",
    "# paths: (src, dst) -> [path1, path2, ...], path1 = [node1, node2, ...]\n",
    "def map_paths_to_edge_ids(paths, edge_id_mapping):\n",
    "  # path_id -> [edge_id1, edge_id2, ...]\n",
    "  path_ids_to_edge_ids_mapping = dict()\n",
    "  # (src, dst) -> [path_id1, path_id2, ...]\n",
    "  new_paths = dict()\n",
    "  cur_path_id = 0\n",
    "  def get_edge_id(src, dst):\n",
    "    val = edge_id_mapping.get((src, dst), None) or edge_id_mapping.get((dst, src), None)\n",
    "    if val is None:\n",
    "      raise Exception(f\"edge ({src}, {dst}) not found in edge_id_mapping\")\n",
    "    return val[0]\n",
    "  # iterate over all (src, dst) pairs\n",
    "  for (src_id, dst_id), pair_paths in paths.items():\n",
    "    new_paths[(src_id, dst_id)] = []\n",
    "    # iterate over all paths for this (src, dst) pair\n",
    "    for path_nodes in pair_paths:\n",
    "      path_edges = [(path_nodes[i], path_nodes[i+1]) for i in range(len(path_nodes)-1)]\n",
    "      path_edge_ids = [get_edge_id(*edge) for edge in path_edges]\n",
    "      # add to mapping\n",
    "      path_ids_to_edge_ids_mapping[cur_path_id] = np.asarray(path_edge_ids, dtype=np.uint32)\n",
    "      new_paths[(src_id, dst_id)].append(cur_path_id)\n",
    "      # increment path ID\n",
    "      cur_path_id += 1\n",
    "  return new_paths, path_ids_to_edge_ids_mapping\n",
    "  "
   ]
  },
  {
   "cell_type": "code",
   "execution_count": 22,
   "metadata": {},
   "outputs": [
    {
     "name": "stdout",
     "output_type": "stream",
     "text": [
      "Loading paths from pickle file /home/sauce/POP/traffic_engineering/topologies/paths/path-form/Deltacom.graphml-4-paths_edge-disjoint-True_dist-metric-inv-cap-dict.pkl\n",
      "paths_dict size: 12656\n",
      "Avg. path length: 1.09\n",
      "# flows: 12656\n",
      "# edges: 322\n",
      "# nodes: 113\n"
     ]
    }
   ],
   "source": [
    "# extract paths\n",
    "paths_dict = PathFormulation.read_paths_from_disk_or_compute(prob, num_paths, edge_disjoint, dist_metric)\n",
    "print(f\"Avg. path length: {np.mean([len(p)-1 for p in paths_dict.values()]):.2f}\")\n",
    "# extract flows from problem\n",
    "prob_flows = get_flows(prob)\n",
    "# extract edge capacities from problem\n",
    "edge_caps, edge_id_mapping = get_edge_capacities(prob)\n",
    "# process paths dict into list of edge IDs per (flow ID, path ID) pair\n",
    "mapped_paths, path_ids_to_edge_ids_mapping = map_paths_to_edge_ids(paths_dict, edge_id_mapping)\n",
    "# extract traffic matrix\n",
    "prob_tm = get_traffic_matrix(prob)"
   ]
  },
  {
   "cell_type": "markdown",
   "metadata": {},
   "source": [
    "# Formulate optimization problem\n",
    "### Objective: max total flow"
   ]
  },
  {
   "cell_type": "code",
   "execution_count": 9,
   "metadata": {},
   "outputs": [],
   "source": [
    "# create mapping of (flow_id, path) -> index\n",
    "pair_idx_mapping = {}"
   ]
  }
 ],
 "metadata": {
  "kernelspec": {
   "display_name": "new_opt",
   "language": "python",
   "name": "python3"
  },
  "language_info": {
   "codemirror_mode": {
    "name": "ipython",
    "version": 3
   },
   "file_extension": ".py",
   "mimetype": "text/x-python",
   "name": "python",
   "nbconvert_exporter": "python",
   "pygments_lexer": "ipython3",
   "version": "3.11.3"
  },
  "orig_nbformat": 4
 },
 "nbformat": 4,
 "nbformat_minor": 2
}
